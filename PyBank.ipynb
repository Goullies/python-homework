{
 "cells": [
  {
   "cell_type": "code",
   "execution_count": 5,
   "id": "8ab19263-8e98-4ec1-9b5f-c1c15c976b7a",
   "metadata": {},
   "outputs": [],
   "source": [
    "from pathlib import Path\n",
    "import csv"
   ]
  },
  {
   "cell_type": "code",
   "execution_count": 7,
   "id": "959a0061-817f-42a0-b3bc-e49ac0b71f4f",
   "metadata": {},
   "outputs": [],
   "source": [
    "csvpath = Path('budget_data.csv')"
   ]
  },
  {
   "cell_type": "code",
   "execution_count": 49,
   "id": "86f72a4d-b037-4e0b-890d-6841b4ab938d",
   "metadata": {},
   "outputs": [
    {
     "name": "stdout",
     "output_type": "stream",
     "text": [
      "Number of months in the Budget Data file is: 86\n"
     ]
    }
   ],
   "source": [
    "# Total number of months included in the data set\n",
    "\n",
    "row_count  = -1\n",
    "\n",
    "for row in open(\"budget_data.csv\"):\n",
    "    row_count += 1\n",
    "\n",
    "print(\"Number of months in the Budget Data file is:\", row_count)"
   ]
  },
  {
   "cell_type": "code",
   "execution_count": 50,
   "id": "0adec2dd-665b-4542-b540-fda38c4f4f93",
   "metadata": {},
   "outputs": [
    {
     "name": "stdout",
     "output_type": "stream",
     "text": [
      "The total profit for the period is: $ 38382578\n"
     ]
    }
   ],
   "source": [
    "profits = []\n",
    "\n",
    "line_num = 0\n",
    "\n",
    "with open(csvpath, 'r') as csvfile:\n",
    "  \n",
    "    csvreader = csv.reader(csvfile, delimiter=',')\n",
    "    \n",
    "    csv_header = next(csvreader)\n",
    "    line_num += 1\n",
    "    \n",
    "    for row in csvreader:\n",
    "        profit = int(row[1])\n",
    "        profits.append(profit)\n",
    " \n",
    "total_profit = 0\n",
    "\n",
    "for profit in profits:\n",
    "    total_profit += profit    \n",
    "  \n",
    "\n",
    "print('The total profit for the period is: $',total_profit)"
   ]
  },
  {
   "cell_type": "code",
   "execution_count": 51,
   "id": "56bc06d5-d898-4a27-a238-bf79a8b5d946",
   "metadata": {},
   "outputs": [
    {
     "name": "stdout",
     "output_type": "stream",
     "text": [
      "The average of changes on profit and losses for the data period is: -2288.2\n"
     ]
    }
   ],
   "source": [
    "# The average of the changes in Profit/Losses over the entire period   \n",
    "\n",
    "total_month = 0\n",
    "net_profit_loss = 0\n",
    "greatest_decrease =['', 999999]\n",
    "greatest_increase = ['', 0]\n",
    "total_revenue = 0\n",
    "\n",
    "with open(csvpath) as budget_data:\n",
    "    csv_reader = csv.reader(budget_data)\n",
    "    csv_header = next(csv_reader)\n",
    "    first_row = next(csv_reader)\n",
    "    total_month = total_month +1\n",
    "    net_profit_loss = int(net_profit_loss) + int(first_row[1])\n",
    "    previous_net = int(first_row[1])\n",
    "    \n",
    "    for row in csv_reader:\n",
    "        total_month = total_month + 1\n",
    "        net_profit_loss + net_profit_loss + int(row[1])\n",
    "        net_change = int(row[1]) - previous_net\n",
    "        revenue_change = net_profit_loss + int(row[1])\n",
    "        \n",
    "        if net_profit_loss >= greatest_increase[1]:\n",
    "            greatest_increase[0] = row[0]\n",
    "            greatest_increase[1] = net_change\n",
    "            \n",
    "        if net_profit_loss <= greatest_decrease[1]:\n",
    "            greatest_decrease[0] = row[0]\n",
    "            greatest_decrease[1] = net_change\n",
    "            \n",
    "total_net_change = net_change \n",
    "\n",
    "row_count  = -1\n",
    "\n",
    "for row in open(\"budget_data.csv\"):\n",
    "    row_count += 1\n",
    "\n",
    "avg = round(total_net_change/(row_count), 2)\n",
    "\n",
    "print('The average of changes on profit and losses for the data period is:', avg)"
   ]
  },
  {
   "cell_type": "code",
   "execution_count": 52,
   "id": "2969da7c-639a-4475-ac83-84db840057b0",
   "metadata": {},
   "outputs": [
    {
     "name": "stdout",
     "output_type": "stream",
     "text": [
      "The greatest decrease in profits in the dataset is: ['Feb-2017', -196785]\n"
     ]
    }
   ],
   "source": [
    "#The greatest decrease in Profits (date and amount) over the entire period\n",
    "\n",
    "print('The greatest decrease in profits in the dataset is:',greatest_increase)"
   ]
  },
  {
   "cell_type": "code",
   "execution_count": 53,
   "id": "3dcdae9a-5ca5-46a3-ad58-a0d8d5f62e88",
   "metadata": {},
   "outputs": [
    {
     "name": "stdout",
     "output_type": "stream",
     "text": [
      "The greatest Increase in Profits in the dataset : ['Feb-2010', 116771]\n"
     ]
    }
   ],
   "source": [
    "#The greatest increase in Profits (date and amount) over the entire period\n",
    "\n",
    "print('The greatest Increase in Profits in the dataset :',greatest_decrease)"
   ]
  }
 ],
 "metadata": {
  "kernelspec": {
   "display_name": "Python 3 (ipykernel)",
   "language": "python",
   "name": "python3"
  },
  "language_info": {
   "codemirror_mode": {
    "name": "ipython",
    "version": 3
   },
   "file_extension": ".py",
   "mimetype": "text/x-python",
   "name": "python",
   "nbconvert_exporter": "python",
   "pygments_lexer": "ipython3",
   "version": "3.9.12"
  }
 },
 "nbformat": 4,
 "nbformat_minor": 5
}
